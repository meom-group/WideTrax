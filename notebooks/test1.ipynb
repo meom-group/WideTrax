{
 "cells": [
  {
   "cell_type": "code",
   "execution_count": 5,
   "id": "020cc1de-1d1f-47ba-b3e3-5d8a290c9c76",
   "metadata": {
    "tags": []
   },
   "outputs": [],
   "source": [
    "import widetrax"
   ]
  },
  {
   "cell_type": "code",
   "execution_count": 6,
   "id": "c80b6b4d-196d-4695-a145-9d7e409fd803",
   "metadata": {
    "tags": []
   },
   "outputs": [],
   "source": [
    "from widetrax import extract_xarray_in_region, count_observations"
   ]
  },
  {
   "cell_type": "code",
   "execution_count": 8,
   "id": "42a3fc22-0eab-435e-aad6-4ce78878af4f",
   "metadata": {
    "tags": []
   },
   "outputs": [],
   "source": []
  }
 ],
 "metadata": {
  "kernelspec": {
   "display_name": "Helpdesk SwotLR (DEV)",
   "language": "python",
   "name": "py311_swotlr_dev"
  },
  "language_info": {
   "codemirror_mode": {
    "name": "ipython",
    "version": 3
   },
   "file_extension": ".py",
   "mimetype": "text/x-python",
   "name": "python",
   "nbconvert_exporter": "python",
   "pygments_lexer": "ipython3",
   "version": "3.11.0"
  }
 },
 "nbformat": 4,
 "nbformat_minor": 5
}
